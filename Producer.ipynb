{
 "cells": [
  {
   "attachments": {},
   "cell_type": "markdown",
   "metadata": {
    "tags": []
   },
   "source": [
    "# Producer app\n",
    "\n",
    "We are using sockets as a way to emit data for spark streaming to consume it. "
   ]
  },
  {
   "cell_type": "markdown",
   "metadata": {},
   "source": [
    "## Reddit information"
   ]
  },
  {
   "cell_type": "code",
   "execution_count": 2,
   "metadata": {
    "ExecuteTime": {
     "end_time": "2023-06-20T15:16:26.520980Z",
     "start_time": "2023-06-20T15:16:26.516319Z"
    }
   },
   "outputs": [],
   "source": [
    "CLIENT_ID = '6di041usQ3ginoVTUL3Tjw'\n",
    "SECRET_TOKEN = 'Q-uxdARHnumCBT-tGLLmbmsZG0mwxw'\n",
    "USERNAME = 'david_landeo'\n",
    "PASSWORD = 'LANvar374*'\n",
    "USER_AGENT = 'MyBot/0.0.1'"
   ]
  },
  {
   "cell_type": "code",
   "execution_count": 1,
   "metadata": {
    "ExecuteTime": {
     "end_time": "2023-06-20T15:16:26.515830Z",
     "start_time": "2023-06-20T15:16:21.557793Z"
    }
   },
   "outputs": [
    {
     "name": "stdout",
     "output_type": "stream",
     "text": [
      "Requirement already satisfied: praw in /Users/erictak/miniconda3/lib/python3.10/site-packages (7.7.0)\r\n",
      "Requirement already satisfied: prawcore<3,>=2.1 in /Users/erictak/miniconda3/lib/python3.10/site-packages (from praw) (2.3.0)\r\n",
      "Requirement already satisfied: update-checker>=0.18 in /Users/erictak/miniconda3/lib/python3.10/site-packages (from praw) (0.18.0)\r\n",
      "Requirement already satisfied: websocket-client>=0.54.0 in /Users/erictak/miniconda3/lib/python3.10/site-packages (from praw) (0.58.0)\r\n",
      "Requirement already satisfied: requests<3.0,>=2.6.0 in /Users/erictak/miniconda3/lib/python3.10/site-packages (from prawcore<3,>=2.1->praw) (2.31.0)\r\n",
      "Requirement already satisfied: six in /Users/erictak/miniconda3/lib/python3.10/site-packages (from websocket-client>=0.54.0->praw) (1.16.0)\r\n",
      "Requirement already satisfied: idna<4,>=2.5 in /Users/erictak/miniconda3/lib/python3.10/site-packages (from requests<3.0,>=2.6.0->prawcore<3,>=2.1->praw) (3.4)\r\n",
      "Requirement already satisfied: certifi>=2017.4.17 in /Users/erictak/miniconda3/lib/python3.10/site-packages (from requests<3.0,>=2.6.0->prawcore<3,>=2.1->praw) (2022.12.7)\r\n",
      "Requirement already satisfied: urllib3<3,>=1.21.1 in /Users/erictak/miniconda3/lib/python3.10/site-packages (from requests<3.0,>=2.6.0->prawcore<3,>=2.1->praw) (2.0.2)\r\n",
      "Requirement already satisfied: charset-normalizer<4,>=2 in /Users/erictak/miniconda3/lib/python3.10/site-packages (from requests<3.0,>=2.6.0->prawcore<3,>=2.1->praw) (2.0.4)\r\n"
     ]
    }
   ],
   "source": [
    "!pip install praw"
   ]
  },
  {
   "cell_type": "code",
   "execution_count": 3,
   "metadata": {
    "ExecuteTime": {
     "end_time": "2023-06-20T15:16:34.512426Z",
     "start_time": "2023-06-20T15:16:34.273211Z"
    }
   },
   "outputs": [],
   "source": [
    "import praw\n",
    "import datetime\n",
    "import json\n",
    "\n",
    "reddit = praw.Reddit(client_id=CLIENT_ID,\n",
    "                     client_secret=SECRET_TOKEN,\n",
    "                     user_agent=USER_AGENT)"
   ]
  },
  {
   "attachments": {},
   "cell_type": "markdown",
   "metadata": {},
   "source": [
    "## Create a socket and send messages non stop\n",
    "\n"
   ]
  },
  {
   "cell_type": "code",
   "execution_count": 4,
   "metadata": {
    "tags": [],
    "ExecuteTime": {
     "end_time": "2023-06-20T15:17:19.869674Z",
     "start_time": "2023-06-20T15:16:52.320408Z"
    }
   },
   "outputs": [
    {
     "name": "stdout",
     "output_type": "stream",
     "text": [
      "Listening on port: 9998\n"
     ]
    },
    {
     "ename": "KeyboardInterrupt",
     "evalue": "",
     "output_type": "error",
     "traceback": [
      "\u001B[0;31m---------------------------------------------------------------------------\u001B[0m",
      "\u001B[0;31mKeyboardInterrupt\u001B[0m                         Traceback (most recent call last)",
      "Cell \u001B[0;32mIn[4], line 40\u001B[0m\n\u001B[1;32m     37\u001B[0m subreddit2 \u001B[38;5;241m=\u001B[39m reddit\u001B[38;5;241m.\u001B[39msubreddit(\u001B[38;5;124m'\u001B[39m\u001B[38;5;124mpython\u001B[39m\u001B[38;5;124m'\u001B[39m)\n\u001B[1;32m     39\u001B[0m \u001B[38;5;28;01mwhile\u001B[39;00m \u001B[38;5;28;01mTrue\u001B[39;00m:\n\u001B[0;32m---> 40\u001B[0m     c, addr \u001B[38;5;241m=\u001B[39m \u001B[43ms\u001B[49m\u001B[38;5;241;43m.\u001B[39;49m\u001B[43maccept\u001B[49m\u001B[43m(\u001B[49m\u001B[43m)\u001B[49m\n\u001B[1;32m     41\u001B[0m     stream_data(subreddit1)\n\u001B[1;32m     42\u001B[0m     stream_data(subreddit2)\n",
      "File \u001B[0;32m~/miniconda3/lib/python3.10/socket.py:293\u001B[0m, in \u001B[0;36msocket.accept\u001B[0;34m(self)\u001B[0m\n\u001B[1;32m    286\u001B[0m \u001B[38;5;28;01mdef\u001B[39;00m \u001B[38;5;21maccept\u001B[39m(\u001B[38;5;28mself\u001B[39m):\n\u001B[1;32m    287\u001B[0m     \u001B[38;5;124;03m\"\"\"accept() -> (socket object, address info)\u001B[39;00m\n\u001B[1;32m    288\u001B[0m \n\u001B[1;32m    289\u001B[0m \u001B[38;5;124;03m    Wait for an incoming connection.  Return a new socket\u001B[39;00m\n\u001B[1;32m    290\u001B[0m \u001B[38;5;124;03m    representing the connection, and the address of the client.\u001B[39;00m\n\u001B[1;32m    291\u001B[0m \u001B[38;5;124;03m    For IP sockets, the address info is a pair (hostaddr, port).\u001B[39;00m\n\u001B[1;32m    292\u001B[0m \u001B[38;5;124;03m    \"\"\"\u001B[39;00m\n\u001B[0;32m--> 293\u001B[0m     fd, addr \u001B[38;5;241m=\u001B[39m \u001B[38;5;28;43mself\u001B[39;49m\u001B[38;5;241;43m.\u001B[39;49m\u001B[43m_accept\u001B[49m\u001B[43m(\u001B[49m\u001B[43m)\u001B[49m\n\u001B[1;32m    294\u001B[0m     sock \u001B[38;5;241m=\u001B[39m socket(\u001B[38;5;28mself\u001B[39m\u001B[38;5;241m.\u001B[39mfamily, \u001B[38;5;28mself\u001B[39m\u001B[38;5;241m.\u001B[39mtype, \u001B[38;5;28mself\u001B[39m\u001B[38;5;241m.\u001B[39mproto, fileno\u001B[38;5;241m=\u001B[39mfd)\n\u001B[1;32m    295\u001B[0m     \u001B[38;5;66;03m# Issue #7995: if no default timeout is set and the listening\u001B[39;00m\n\u001B[1;32m    296\u001B[0m     \u001B[38;5;66;03m# socket had a (non-zero) timeout, force the new socket in blocking\u001B[39;00m\n\u001B[1;32m    297\u001B[0m     \u001B[38;5;66;03m# mode to override platform-specific socket flags inheritance.\u001B[39;00m\n",
      "\u001B[0;31mKeyboardInterrupt\u001B[0m: "
     ]
    }
   ],
   "source": [
    "import socket\n",
    "\n",
    "def stream_data(subreddit):\n",
    "    for comment in subreddit.stream.comments():\n",
    "        try:\n",
    "            parent_id = str(comment.parent())\n",
    "            parent_com = reddit.comment(parent_id)\n",
    "            post = comment.submission\n",
    "            print('-comment:')\n",
    "            print(comment.body)\n",
    "            print('-Parent comment:')\n",
    "            print(parent_com.body)\n",
    "            print('-creation date:')\n",
    "            creation_date = datetime.datetime.utcfromtimestamp(post.created_utc)\n",
    "            print(creation_date)\n",
    "            \n",
    "            # Envía la información al socket\n",
    "            sentence = f\"Comment: {comment.body}\\nParent Comment: {parent_com.body}\\nCreation Date: {creation_date}\\n\"\n",
    "            c.send(sentence.encode(\"utf-8\"))\n",
    "            \n",
    "        except praw.exceptions.PRAWException as ex:\n",
    "            print(f'-Parsing ERROR, with message: {ex}')\n",
    "    return sentence\n",
    "\n",
    "s = socket.socket()\n",
    "host = \"127.0.0.1\"\n",
    "port = 9998\n",
    "\n",
    "s.setsockopt(socket.SOL_SOCKET, socket.SO_REUSEPORT, 1)\n",
    "s.bind((host, port))\n",
    "\n",
    "print(\"Listening on port: %s\" % str(port))\n",
    "\n",
    "s.listen(5)\n",
    "\n",
    "subreddit1 = reddit.subreddit('funny')\n",
    "subreddit2 = reddit.subreddit('python')\n",
    "\n",
    "while True:\n",
    "    c, addr = s.accept()\n",
    "    stream_data(subreddit1)\n",
    "    stream_data(subreddit2)\n",
    "    print(\"message sent!\")\n",
    "    print(sentence)\n",
    "    c.close()"
   ]
  },
  {
   "cell_type": "code",
   "execution_count": null,
   "metadata": {},
   "outputs": [],
   "source": [
    "c.close()"
   ]
  },
  {
   "cell_type": "code",
   "execution_count": null,
   "metadata": {},
   "outputs": [],
   "source": []
  }
 ],
 "metadata": {
  "kernelspec": {
   "display_name": "Python 3 (ipykernel)",
   "language": "python",
   "name": "python3"
  },
  "language_info": {
   "codemirror_mode": {
    "name": "ipython",
    "version": 3
   },
   "file_extension": ".py",
   "mimetype": "text/x-python",
   "name": "python",
   "nbconvert_exporter": "python",
   "pygments_lexer": "ipython3",
   "version": "3.11.4"
  }
 },
 "nbformat": 4,
 "nbformat_minor": 4
}
