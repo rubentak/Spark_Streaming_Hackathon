{
 "cells": [
  {
   "cell_type": "markdown",
   "metadata": {},
   "source": [
    "## SparkStreaming Hackathon\n",
    "### Course: Real-time Data Analysis\n",
    "### Authors: Ruben Tak, Nils Jennissen, David Landeo\n",
    "This task involves setting up a data streaming pipeline to extract and process posts and comments from Reddit. The data will be structured and sent through a socket, then received and processed by another process. References to users, posts, and external sites will be extracted and counted, and the top 10 important words will be identified using TF-IDF. Optional features include sentiment analysis, additional metrics, saving results to a database, creating a Jupyter Notebook dashboard, and visualizing the results on a web page. The deliverables include Python code, instructions, output data files, and optional Docker setup."
   ]
  },
  {
   "cell_type": "code",
   "execution_count": 1,
   "metadata": {
    "ExecuteTime": {
     "end_time": "2023-06-21T16:47:19.800355Z",
     "start_time": "2023-06-21T16:47:19.795233Z"
    }
   },
   "outputs": [],
   "source": [
    "# pip install praw"
   ]
  },
  {
   "cell_type": "code",
   "execution_count": null,
   "metadata": {
    "scrolled": true,
    "is_executing": true,
    "ExecuteTime": {
     "start_time": "2023-06-21T19:36:22.394393Z"
    }
   },
   "outputs": [
    {
     "name": "stdout",
     "output_type": "stream",
     "text": [
      "Listening on port: 9999\n"
     ]
    }
   ],
   "source": [
    "# remember to use nc -lk 9999 before you run the script\n",
    "import socket\n",
    "import json\n",
    "import praw\n",
    "import logging\n",
    "logging.basicConfig(filename='stream_json_error.log', level=logging.ERROR)\n",
    "from credentials import CLIENT_ID, CLIENT_SECRET\n",
    "\n",
    "USER_AGENT = 'MyBot/0.0.1'\n",
    "\n",
    "host = \"127.0.0.1\"\n",
    "port = 9999\n",
    "\n",
    "subred_name = \"reddit\"\n",
    "\n",
    "def create_socket(host, port):\n",
    "    \"\"\"\n",
    "    Create a socket and bind it to the specified host and port.\n",
    "    \"\"\"\n",
    "    s = socket.socket()\n",
    "    s.setsockopt(socket.SOL_SOCKET, socket.SO_REUSEADDR, 1)\n",
    "    s.bind((host, port))\n",
    "    print(f\"Listening on port: {port}\")\n",
    "    s.listen()\n",
    "    return s\n",
    "\n",
    "def stream_json(reddit, subreddit, socket):\n",
    "    \"\"\"\n",
    "    Stream comments from the specified subreddit and send them through the socket.\n",
    "    \"\"\"\n",
    "    # Accept the connection once\n",
    "    c, addr = socket.accept()\n",
    "    for comment in subreddit.stream.comments():\n",
    "        try:\n",
    "            post = comment.submission\n",
    "            parent_id = str(comment.parent())\n",
    "            parent_comment = reddit.comment(parent_id)\n",
    "            my_object = {\n",
    "            \"comment\": comment.body,\n",
    "            \"prev_comment\": parent_comment.body,\n",
    "            \"post\": post.selftext,\n",
    "            \"post_date\": post.created_utc,\n",
    "            \"comment_date\": comment.created_utc,\n",
    "            }\n",
    "            # Send data with a newline character\n",
    "            c.send((json.dumps(my_object) + '\\n').encode('utf-8'))\n",
    "            print(f'Sent data: {my_object}')\n",
    "        except praw.exceptions.PRAWException as ex:\n",
    "            logging.error(f\"Error while streaming comments: {ex}\")\n",
    "            pass\n",
    "    # Close the connection after streaming comments\n",
    "    c.close()\n",
    "\n",
    "def main():\n",
    "    # Set up Reddit API\n",
    "    reddit = praw.Reddit(client_id=CLIENT_ID,\n",
    "                         client_secret=CLIENT_SECRET,\n",
    "                         user_agent=USER_AGENT)\n",
    "\n",
    "    subreddit = reddit.subreddit(subred_name)\n",
    "\n",
    "    # Set up socket\n",
    "    with create_socket(host, port) as s:\n",
    "        # Stream comments and send them through the socket\n",
    "        stream_json(reddit, subreddit, s)\n",
    "\n",
    "if __name__ == \"__main__\":\n",
    "    main()"
   ]
  },
  {
   "cell_type": "code",
   "execution_count": null,
   "metadata": {},
   "outputs": [],
   "source": []
  }
 ],
 "metadata": {
  "kernelspec": {
   "display_name": "Python 3 (ipykernel)",
   "language": "python",
   "name": "python3"
  },
  "language_info": {
   "codemirror_mode": {
    "name": "ipython",
    "version": 3
   },
   "file_extension": ".py",
   "mimetype": "text/x-python",
   "name": "python",
   "nbconvert_exporter": "python",
   "pygments_lexer": "ipython3",
   "version": "3.11.4"
  },
  "vscode": {
   "interpreter": {
    "hash": "1db35aecd77fcc020a8642668a5b7619c380276ef0ce04f324d75e02f2d7512b"
   }
  }
 },
 "nbformat": 4,
 "nbformat_minor": 4
}
