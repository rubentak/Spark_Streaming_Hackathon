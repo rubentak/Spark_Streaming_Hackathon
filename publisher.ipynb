{
 "cells": [
  {
   "cell_type": "code",
   "execution_count": 1,
   "metadata": {
    "collapsed": true,
    "ExecuteTime": {
     "end_time": "2023-06-21T18:53:59.823754Z",
     "start_time": "2023-06-21T18:50:45.121703Z"
    }
   },
   "outputs": [
    {
     "name": "stdout",
     "output_type": "stream",
     "text": [
      "Listening on port: 9999\n",
      "Sent data: {'comment': 'His \"joke\" explained clearly. Crystal. \\n\\nhttps://pca.st/episode/f8b63290-5616-42e1-a956-a0486f29e21e', 'prev_comment': 'His “joke” is the least of our issues. His behavior and communications with us has been all over the place—saying one thing to us while saying something completely different externally; recording and leaking a private phone call—to the point where I don’t know how we could do business with him.', 'post': \"Dear redditors,\\n\\nFor those of you who don’t know me, I’m Steve aka u/spez. I am one of the founders of Reddit, and I’ve been CEO since 2015. On Wednesday, I celebrated my 18th cake-day, which is about 17 years and 9 months longer than I thought this project would last. To be with you here today on Reddit—even in a heated moment like this—is an honor.\\n\\nI want to talk with you today about what’s happening within the community and frustration stemming from changes we are making to access our API. I spoke to a number of moderators on Wednesday and yesterday afternoon and our product and community teams have had further  conversations with mods as well.\\n\\nFirst, let me share the background on this topic as well as some clarifying details. On 4/18, we [shared](https://www.reddit.com/r/reddit/comments/12qwagm/an_update_regarding_reddits_api/) that we would update access to the API, including premium access for third parties who require additional capabilities and higher usage limits. Reddit needs to be a self-sustaining business, and to do that, we can no longer subsidize commercial entities that require large-scale data use. \\n\\nThere’s been a lot of confusion over what these changes mean, and I want to highlight what these changes mean for moderators and developers.  \\n\\n* **Terms of Service**\\n   * Effective June 19, 2023, our updated [Data API Terms](https://www.redditinc.com/policies/data-api-terms), together with our [Developer Terms](https://www.redditinc.com/policies/developer-terms), replaced the existing Data API terms.\\n* **Free Data API** \\n   * Effective July 1, 2023, the rate limits to use the Data API free of charge are:\\n      * 100 queries per minute per OAuth client id if you are using OAuth authentication and 10 queries per minute if you are not using OAuth authentication.\\n      * Today, over 90% of apps fall into this category and can continue to access the Data API for free.\\n* **Premium Enterprise API / Third-party apps**\\n   * Effective July 1, 2023, the rate for apps that require higher usage limits is $0.24 per 1K API calls (less than $1.00 per user / month for a typical Reddit third-party app).\\n   * Some apps such as Apollo, Reddit is Fun, and Sync have decided this pricing doesn’t work for their businesses and will close before pricing goes into effect. \\n   * For the other apps, we will continue talking. We acknowledge that the timeline we gave was tight; we are happy to engage with folks who want to work with us.\\n* **Mod Tools**\\n   * We know many communities rely on tools like RES, ContextMod, Toolbox, etc., and these tools will continue to have free access to the Data API.\\n   * We’re working together with Pushshift to [restore access](https://www.reddit.com/r/pushshift/comments/13w6j20/advancing_communityled_moderation_an_update_on/?utm_source=share&utm_medium=web2x&context=3) for verified moderators.\\n* **Mod Bots**\\n   * If you’re creating free bots that help moderators and users (e.g. haikubot, setlistbot, etc), please continue to do so. You can contact us [here](https://support.reddithelp.com/hc/en-us/requests/new?ticket_form_id=14868593862164) if you have a bot that requires access to the Data API above the free limits. \\n   * Developer Platform is a new platform designed to let users and developers expand the Reddit experience by providing powerful features for building moderation tools, creative tools, games, and more. We are currently in a closed beta with hundreds of developers (sign up [here](https://developers.reddit.com/)). For those of you who have been around a while, it is the spiritual successor to both the API and Custom CSS.\\n* **Explicit Content** \\n   * Effective July 5, 2023, we will limit access to mature content via our Data API as part of an ongoing effort to provide guardrails to how explicit content and communities on Reddit are discovered and viewed. \\n   * This change will not impact any moderator bots or extensions.\\nIn our conversations with moderators and developers, we heard two areas of feedback we plan to address. \\n\\n* **Accessibility** \\\\- We want everyone to be able to use Reddit. As a result, non-commercial, accessibility-focused apps and tools will continue to have free access. We’re working with apps like RedReader and Dystopia and a few others to ensure they can continue to access the Data API.\\n* **Better mobile moderation** \\\\- We need more efficient moderation tools, especially on mobile. They are coming. We’ve [launched ](https://www.reddit.com/r/modnews/comments/142kh8s/improvement_to_the_mobile_mod_queue/?utm_source=share&utm_medium=web2x&context=3)improvements to some tools recently and will continue to do so. About 3% of mod actions come from third-party apps, and we’ve reached out to communities who moderate almost exclusively using these apps to ensure we address their needs.\\n\\nMods, I appreciate all the time you’ve spent with us this week, and all the time prior as well. Your feedback is invaluable. We respect when you and your communities take action to highlight the things you need, including, at times, going private. We are all responsible for ensuring Reddit provides an open accessible place for people to find community and belonging. \\n\\nI will be sticking around to answer questions along with other admins. We know answers are tough to find, so we're switching the default sort to Q&A mode. You can view responses from the following admins here:\\n\\n* u/spez\\n* u/KeyserSosa\\n* u/Go_JasonWaterfalls\\n* u/FlyingLaserTurtle\\n\\n\\\\- Steve\\n\\nP.S. old.reddit.com isn’t going anywhere, and explicit content is *still* allowed on Reddit as long as it abides by our content policy. \\n\\nedit: formatting\", 'author': 'Yowzz', 'link_url': 'https://www.reddit.com/r/reddit/comments/145bram/addressing_the_community_about_changes_to_our_api/', 'link_permalink': 'https://www.reddit.com/r/reddit/comments/145bram/addressing_the_community_about_changes_to_our_api/', 'post_date': 1687315472.0, 'ups': 1, 'likes': None}\n"
     ]
    },
    {
     "ename": "KeyboardInterrupt",
     "evalue": "",
     "output_type": "error",
     "traceback": [
      "\u001B[0;31m---------------------------------------------------------------------------\u001B[0m",
      "\u001B[0;31mKeyboardInterrupt\u001B[0m                         Traceback (most recent call last)",
      "Cell \u001B[0;32mIn[1], line 58\u001B[0m\n\u001B[1;32m     53\u001B[0m reddit \u001B[38;5;241m=\u001B[39m praw\u001B[38;5;241m.\u001B[39mReddit(client_id\u001B[38;5;241m=\u001B[39mCLIENT_ID,\n\u001B[1;32m     54\u001B[0m                      client_secret\u001B[38;5;241m=\u001B[39mSECRET_TOKEN,\n\u001B[1;32m     55\u001B[0m                      user_agent\u001B[38;5;241m=\u001B[39mUSER_AGENT)\n\u001B[1;32m     57\u001B[0m subreddit \u001B[38;5;241m=\u001B[39m reddit\u001B[38;5;241m.\u001B[39msubreddit(subred_name)\n\u001B[0;32m---> 58\u001B[0m \u001B[43mstream_json\u001B[49m\u001B[43m(\u001B[49m\u001B[43msubreddit\u001B[49m\u001B[43m)\u001B[49m\n",
      "Cell \u001B[0;32mIn[1], line 46\u001B[0m, in \u001B[0;36mstream_json\u001B[0;34m(subreddit)\u001B[0m\n\u001B[1;32m     34\u001B[0m my_object \u001B[38;5;241m=\u001B[39m {\n\u001B[1;32m     35\u001B[0m     \u001B[38;5;124m\"\u001B[39m\u001B[38;5;124mcomment\u001B[39m\u001B[38;5;124m\"\u001B[39m: comment_body,\n\u001B[1;32m     36\u001B[0m     \u001B[38;5;124m\"\u001B[39m\u001B[38;5;124mprev_comment\u001B[39m\u001B[38;5;124m\"\u001B[39m: prev_body,\n\u001B[0;32m   (...)\u001B[0m\n\u001B[1;32m     43\u001B[0m     \u001B[38;5;124m\"\u001B[39m\u001B[38;5;124mlikes\u001B[39m\u001B[38;5;124m\"\u001B[39m: comment\u001B[38;5;241m.\u001B[39mlikes,\n\u001B[1;32m     44\u001B[0m }\n\u001B[1;32m     45\u001B[0m \u001B[38;5;66;03m# Send through socket\u001B[39;00m\n\u001B[0;32m---> 46\u001B[0m c, addr \u001B[38;5;241m=\u001B[39m \u001B[43ms\u001B[49m\u001B[38;5;241;43m.\u001B[39;49m\u001B[43maccept\u001B[49m\u001B[43m(\u001B[49m\u001B[43m)\u001B[49m\n\u001B[1;32m     47\u001B[0m c\u001B[38;5;241m.\u001B[39msend(json\u001B[38;5;241m.\u001B[39mdumps(my_object)\u001B[38;5;241m.\u001B[39mencode(\u001B[38;5;124m'\u001B[39m\u001B[38;5;124mutf-8\u001B[39m\u001B[38;5;124m'\u001B[39m))\n\u001B[1;32m     48\u001B[0m c\u001B[38;5;241m.\u001B[39mclose()\n",
      "File \u001B[0;32m~/miniforge3/envs/spark-streaming-hackathon/lib/python3.10/socket.py:293\u001B[0m, in \u001B[0;36msocket.accept\u001B[0;34m(self)\u001B[0m\n\u001B[1;32m    286\u001B[0m \u001B[38;5;28;01mdef\u001B[39;00m \u001B[38;5;21maccept\u001B[39m(\u001B[38;5;28mself\u001B[39m):\n\u001B[1;32m    287\u001B[0m \u001B[38;5;250m    \u001B[39m\u001B[38;5;124;03m\"\"\"accept() -> (socket object, address info)\u001B[39;00m\n\u001B[1;32m    288\u001B[0m \n\u001B[1;32m    289\u001B[0m \u001B[38;5;124;03m    Wait for an incoming connection.  Return a new socket\u001B[39;00m\n\u001B[1;32m    290\u001B[0m \u001B[38;5;124;03m    representing the connection, and the address of the client.\u001B[39;00m\n\u001B[1;32m    291\u001B[0m \u001B[38;5;124;03m    For IP sockets, the address info is a pair (hostaddr, port).\u001B[39;00m\n\u001B[1;32m    292\u001B[0m \u001B[38;5;124;03m    \"\"\"\u001B[39;00m\n\u001B[0;32m--> 293\u001B[0m     fd, addr \u001B[38;5;241m=\u001B[39m \u001B[38;5;28;43mself\u001B[39;49m\u001B[38;5;241;43m.\u001B[39;49m\u001B[43m_accept\u001B[49m\u001B[43m(\u001B[49m\u001B[43m)\u001B[49m\n\u001B[1;32m    294\u001B[0m     sock \u001B[38;5;241m=\u001B[39m socket(\u001B[38;5;28mself\u001B[39m\u001B[38;5;241m.\u001B[39mfamily, \u001B[38;5;28mself\u001B[39m\u001B[38;5;241m.\u001B[39mtype, \u001B[38;5;28mself\u001B[39m\u001B[38;5;241m.\u001B[39mproto, fileno\u001B[38;5;241m=\u001B[39mfd)\n\u001B[1;32m    295\u001B[0m     \u001B[38;5;66;03m# Issue #7995: if no default timeout is set and the listening\u001B[39;00m\n\u001B[1;32m    296\u001B[0m     \u001B[38;5;66;03m# socket had a (non-zero) timeout, force the new socket in blocking\u001B[39;00m\n\u001B[1;32m    297\u001B[0m     \u001B[38;5;66;03m# mode to override platform-specific socket flags inheritance.\u001B[39;00m\n",
      "\u001B[0;31mKeyboardInterrupt\u001B[0m: "
     ]
    }
   ],
   "source": [
    "import socket\n",
    "import json\n",
    "import praw\n",
    "import logging\n",
    "logging.basicConfig(filename='stream_json_error.log', level=logging.ERROR)\n",
    "from credentials import YOUR_CLIENT_ID, YOUR_CLIENT_SECRET\n",
    "\n",
    "CLIENT_ID = YOUR_CLIENT_ID\n",
    "SECRET_TOKEN = YOUR_CLIENT_SECRET\n",
    "USER_AGENT = 'MyBot/0.0.1'\n",
    "\n",
    "host = \"127.0.0.1\"\n",
    "port = 9999\n",
    "\n",
    "subred_name = \"reddit\"\n",
    "\n",
    "# Socket Prep\n",
    "s = socket.socket()\n",
    "s.setsockopt(socket.SOL_SOCKET, socket.SO_REUSEPORT, 1)\n",
    "s.bind((host, port))\n",
    "print(\"Listening on port: %s\" % str(port))\n",
    "s.listen()\n",
    "\n",
    "def stream_json(subreddit):\n",
    "    for comment in subreddit.stream.comments():\n",
    "        try:\n",
    "            post = comment.submission\n",
    "            parent_id = str(comment.parent())\n",
    "            prev_comment = reddit.comment(parent_id)\n",
    "\n",
    "            prev_body = prev_comment.body\n",
    "            comment_body = comment.body\n",
    "\n",
    "            my_object = {\n",
    "                \"comment\": comment_body,\n",
    "                \"prev_comment\": prev_body,\n",
    "                \"post\": post.selftext,\n",
    "                \"author\": str(comment.author),\n",
    "                \"link_url\": comment.link_url,\n",
    "                \"link_permalink\": comment.link_permalink,\n",
    "                \"post_date\": comment.created_utc,\n",
    "                \"ups\": comment.ups,\n",
    "                \"likes\": comment.likes,\n",
    "            }\n",
    "            # Send through socket\n",
    "            c, addr = s.accept()\n",
    "            c.send(json.dumps(my_object).encode('utf-8'))\n",
    "            c.close()\n",
    "            print(f'Sent data: {my_object}')\n",
    "        except praw.exceptions.PRAWException as ex:\n",
    "            pass\n",
    "\n",
    "reddit = praw.Reddit(client_id=CLIENT_ID,\n",
    "                     client_secret=SECRET_TOKEN,\n",
    "                     user_agent=USER_AGENT)\n",
    "\n",
    "subreddit = reddit.subreddit(subred_name)\n",
    "stream_json(subreddit)"
   ]
  },
  {
   "cell_type": "code",
   "execution_count": null,
   "outputs": [],
   "source": [],
   "metadata": {
    "collapsed": false
   }
  }
 ],
 "metadata": {
  "kernelspec": {
   "display_name": "Python 3",
   "language": "python",
   "name": "python3"
  },
  "language_info": {
   "codemirror_mode": {
    "name": "ipython",
    "version": 2
   },
   "file_extension": ".py",
   "mimetype": "text/x-python",
   "name": "python",
   "nbconvert_exporter": "python",
   "pygments_lexer": "ipython2",
   "version": "2.7.6"
  }
 },
 "nbformat": 4,
 "nbformat_minor": 0
}
